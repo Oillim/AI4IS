{
 "cells": [
  {
   "cell_type": "code",
   "execution_count": 1,
   "metadata": {},
   "outputs": [],
   "source": [
    "import torch\n",
    "import torchvision\n",
    "import torchvision.transforms as transforms\n",
    "import torch.nn as nn\n",
    "import torch.nn.functional as F\n",
    "from torch.utils.data import random_split\n",
    "from torch.utils.data import DataLoader\n",
    "import matplotlib.pyplot as plt"
   ]
  },
  {
   "cell_type": "code",
   "execution_count": 2,
   "metadata": {},
   "outputs": [],
   "source": [
    "#set hyperparameters\n",
    "batch_size = 128\n",
    "learning_rate = 0.001\n",
    "num_epochs = 100"
   ]
  },
  {
   "cell_type": "code",
   "execution_count": 3,
   "metadata": {},
   "outputs": [],
   "source": [
    "def accuracy(outputs, labels):\n",
    "    _, preds = torch.max(outputs, dim=1)\n",
    "    return torch.tensor(torch.sum(preds == labels).item() / len(preds))"
   ]
  },
  {
   "cell_type": "code",
   "execution_count": 4,
   "metadata": {},
   "outputs": [],
   "source": [
    "class Cifar10Model(nn.Module):\n",
    "    def __init__(self, input_size=3*32*32, num_classes=10):\n",
    "        super().__init__()\n",
    "        self.linear = nn.Linear(input_size, num_classes)\n",
    "        \n",
    "    def forward(self, xb):\n",
    "        xb = xb.view(xb.size(0), -1)#else xb.reshape(-1, 3*32*32)\n",
    "        out = self.linear(xb)\n",
    "        #out = F.softmax(out, dim=1)\n",
    "        return out\n",
    "    \n",
    "    def training_step(self, batch):\n",
    "        images, labels = batch \n",
    "        out = self(images)           # Generate predictions\n",
    "        loss = F.cross_entropy(out, labels) # Calculate loss\n",
    "        return loss\n",
    "    \n",
    "    def validation_step(self, batch):\n",
    "        images, labels = batch \n",
    "        out = self(images)          # Generate predictions\n",
    "        loss = F.cross_entropy(out, labels)   # Calculate loss\n",
    "        acc = accuracy(out, labels)           # Calculate accuracy\n",
    "        return {'val_loss': loss.detach(), 'val_acc': acc.detach()}\n",
    "        \n",
    "        \n",
    "    def validation_epoch_end(self, outputs):\n",
    "        batch_losses = [x['val_loss'] for x in outputs]\n",
    "        epoch_loss = torch.stack(batch_losses).mean()   # Combine losses\n",
    "        batch_accs = [x['val_acc'] for x in outputs]\n",
    "        epoch_acc = torch.stack(batch_accs).mean()      # Combine accuracies\n",
    "        return {'val_loss': epoch_loss.item(), 'val_acc': epoch_acc.item()}\n",
    "    \n",
    "    def epoch_end(self, epoch, result):\n",
    "        print(\"Epoch [{}], val_loss: {:.4f}, val_acc: {:.4f}\".format(epoch, result['val_loss'], result['val_acc']))\n",
    "    \n",
    "model = Cifar10Model()"
   ]
  },
  {
   "cell_type": "code",
   "execution_count": 5,
   "metadata": {},
   "outputs": [],
   "source": [
    "def evaluate(model, val_loader):\n",
    "    outputs = [model.validation_step(batch) for batch in val_loader]\n",
    "    return model.validation_epoch_end(outputs)\n",
    "\n",
    "def fit(epochs, lr, model, train_loader, val_loader, opt_func=torch.optim.SGD):\n",
    "    history = []\n",
    "    optimizer = opt_func(model.parameters(), lr)\n",
    "    for epoch in range(epochs):\n",
    "        # Training Phase \n",
    "        for batch in train_loader:\n",
    "            loss = model.training_step(batch)\n",
    "            loss.backward()\n",
    "            optimizer.step()\n",
    "            optimizer.zero_grad()\n",
    "        # Validation phase\n",
    "        result = evaluate(model, val_loader)\n",
    "        model.epoch_end(epoch, result)\n",
    "        history.append(result)\n",
    "    return history"
   ]
  },
  {
   "cell_type": "code",
   "execution_count": 6,
   "metadata": {},
   "outputs": [],
   "source": [
    "dataset = torchvision.datasets.CIFAR10(root='../Data/data/', train=True, transform=transforms.ToTensor(), download=False)\n",
    "\n",
    "train_ds, val_ds = random_split(dataset, [40000, 10000])\n",
    "test_ds = torchvision.datasets.CIFAR10(root='../Data/data/', train=False, transform=transforms.ToTensor(), download=False)\n",
    "\n",
    "train_loader = DataLoader(train_ds, batch_size, shuffle=True)\n",
    "val_loader = DataLoader(val_ds, batch_size*2)\n",
    "test_loader = DataLoader(test_ds, batch_size*2)"
   ]
  },
  {
   "cell_type": "code",
   "execution_count": 7,
   "metadata": {},
   "outputs": [
    {
     "data": {
      "text/plain": [
       "{'val_loss': 2.357714891433716, 'val_acc': 0.11884765326976776}"
      ]
     },
     "execution_count": 7,
     "metadata": {},
     "output_type": "execute_result"
    }
   ],
   "source": [
    "evaluate(model, val_loader)"
   ]
  },
  {
   "cell_type": "code",
   "execution_count": 8,
   "metadata": {},
   "outputs": [
    {
     "name": "stdout",
     "output_type": "stream",
     "text": [
      "Epoch [0], val_loss: 2.1398, val_acc: 0.2578\n",
      "Epoch [1], val_loss: 2.0664, val_acc: 0.2896\n",
      "Epoch [2], val_loss: 2.0212, val_acc: 0.3092\n",
      "Epoch [3], val_loss: 1.9906, val_acc: 0.3270\n",
      "Epoch [4], val_loss: 1.9686, val_acc: 0.3279\n",
      "Epoch [5], val_loss: 1.9492, val_acc: 0.3356\n",
      "Epoch [6], val_loss: 1.9340, val_acc: 0.3423\n",
      "Epoch [7], val_loss: 1.9231, val_acc: 0.3458\n",
      "Epoch [8], val_loss: 1.9102, val_acc: 0.3501\n",
      "Epoch [9], val_loss: 1.9017, val_acc: 0.3546\n",
      "Epoch [10], val_loss: 1.8932, val_acc: 0.3537\n",
      "Epoch [11], val_loss: 1.8856, val_acc: 0.3581\n",
      "Epoch [12], val_loss: 1.8817, val_acc: 0.3558\n",
      "Epoch [13], val_loss: 1.8733, val_acc: 0.3613\n",
      "Epoch [14], val_loss: 1.8699, val_acc: 0.3582\n",
      "Epoch [15], val_loss: 1.8630, val_acc: 0.3660\n",
      "Epoch [16], val_loss: 1.8614, val_acc: 0.3660\n",
      "Epoch [17], val_loss: 1.8548, val_acc: 0.3648\n",
      "Epoch [18], val_loss: 1.8535, val_acc: 0.3673\n",
      "Epoch [19], val_loss: 1.8492, val_acc: 0.3705\n",
      "Epoch [20], val_loss: 1.8463, val_acc: 0.3707\n",
      "Epoch [21], val_loss: 1.8424, val_acc: 0.3743\n",
      "Epoch [22], val_loss: 1.8389, val_acc: 0.3757\n",
      "Epoch [23], val_loss: 1.8371, val_acc: 0.3714\n",
      "Epoch [24], val_loss: 1.8347, val_acc: 0.3745\n",
      "Epoch [25], val_loss: 1.8307, val_acc: 0.3783\n",
      "Epoch [26], val_loss: 1.8290, val_acc: 0.3746\n",
      "Epoch [27], val_loss: 1.8300, val_acc: 0.3743\n",
      "Epoch [28], val_loss: 1.8253, val_acc: 0.3773\n",
      "Epoch [29], val_loss: 1.8217, val_acc: 0.3763\n",
      "Epoch [30], val_loss: 1.8224, val_acc: 0.3716\n",
      "Epoch [31], val_loss: 1.8210, val_acc: 0.3783\n",
      "Epoch [32], val_loss: 1.8200, val_acc: 0.3780\n",
      "Epoch [33], val_loss: 1.8158, val_acc: 0.3791\n",
      "Epoch [34], val_loss: 1.8141, val_acc: 0.3800\n",
      "Epoch [35], val_loss: 1.8130, val_acc: 0.3788\n",
      "Epoch [36], val_loss: 1.8135, val_acc: 0.3755\n",
      "Epoch [37], val_loss: 1.8105, val_acc: 0.3801\n",
      "Epoch [38], val_loss: 1.8101, val_acc: 0.3795\n",
      "Epoch [39], val_loss: 1.8072, val_acc: 0.3798\n",
      "Epoch [40], val_loss: 1.8072, val_acc: 0.3797\n",
      "Epoch [41], val_loss: 1.8049, val_acc: 0.3826\n",
      "Epoch [42], val_loss: 1.8033, val_acc: 0.3829\n",
      "Epoch [43], val_loss: 1.8040, val_acc: 0.3823\n",
      "Epoch [44], val_loss: 1.8003, val_acc: 0.3833\n",
      "Epoch [45], val_loss: 1.8003, val_acc: 0.3835\n",
      "Epoch [46], val_loss: 1.8002, val_acc: 0.3827\n",
      "Epoch [47], val_loss: 1.7993, val_acc: 0.3818\n",
      "Epoch [48], val_loss: 1.7970, val_acc: 0.3838\n",
      "Epoch [49], val_loss: 1.7970, val_acc: 0.3859\n",
      "Epoch [50], val_loss: 1.7959, val_acc: 0.3876\n",
      "Epoch [51], val_loss: 1.7959, val_acc: 0.3864\n",
      "Epoch [52], val_loss: 1.7936, val_acc: 0.3865\n",
      "Epoch [53], val_loss: 1.7922, val_acc: 0.3825\n",
      "Epoch [54], val_loss: 1.7919, val_acc: 0.3845\n",
      "Epoch [55], val_loss: 1.7900, val_acc: 0.3880\n",
      "Epoch [56], val_loss: 1.7901, val_acc: 0.3872\n",
      "Epoch [57], val_loss: 1.7892, val_acc: 0.3866\n",
      "Epoch [58], val_loss: 1.7879, val_acc: 0.3857\n",
      "Epoch [59], val_loss: 1.7868, val_acc: 0.3858\n",
      "Epoch [60], val_loss: 1.7878, val_acc: 0.3867\n",
      "Epoch [61], val_loss: 1.7861, val_acc: 0.3856\n",
      "Epoch [62], val_loss: 1.7872, val_acc: 0.3888\n",
      "Epoch [63], val_loss: 1.7845, val_acc: 0.3887\n",
      "Epoch [64], val_loss: 1.7849, val_acc: 0.3864\n",
      "Epoch [65], val_loss: 1.7826, val_acc: 0.3896\n",
      "Epoch [66], val_loss: 1.7833, val_acc: 0.3893\n",
      "Epoch [67], val_loss: 1.7814, val_acc: 0.3915\n",
      "Epoch [68], val_loss: 1.7832, val_acc: 0.3877\n",
      "Epoch [69], val_loss: 1.7829, val_acc: 0.3922\n",
      "Epoch [70], val_loss: 1.7800, val_acc: 0.3889\n",
      "Epoch [71], val_loss: 1.7820, val_acc: 0.3893\n",
      "Epoch [72], val_loss: 1.7831, val_acc: 0.3922\n",
      "Epoch [73], val_loss: 1.7784, val_acc: 0.3912\n",
      "Epoch [74], val_loss: 1.7785, val_acc: 0.3919\n",
      "Epoch [75], val_loss: 1.7789, val_acc: 0.3897\n",
      "Epoch [76], val_loss: 1.7778, val_acc: 0.3860\n",
      "Epoch [77], val_loss: 1.7758, val_acc: 0.3918\n",
      "Epoch [78], val_loss: 1.7766, val_acc: 0.3895\n",
      "Epoch [79], val_loss: 1.7780, val_acc: 0.3929\n",
      "Epoch [80], val_loss: 1.7743, val_acc: 0.3927\n",
      "Epoch [81], val_loss: 1.7733, val_acc: 0.3948\n",
      "Epoch [82], val_loss: 1.7744, val_acc: 0.3938\n",
      "Epoch [83], val_loss: 1.7744, val_acc: 0.3922\n",
      "Epoch [84], val_loss: 1.7721, val_acc: 0.3939\n",
      "Epoch [85], val_loss: 1.7728, val_acc: 0.3925\n",
      "Epoch [86], val_loss: 1.7717, val_acc: 0.3960\n",
      "Epoch [87], val_loss: 1.7705, val_acc: 0.3965\n",
      "Epoch [88], val_loss: 1.7701, val_acc: 0.3954\n",
      "Epoch [89], val_loss: 1.7714, val_acc: 0.3941\n",
      "Epoch [90], val_loss: 1.7717, val_acc: 0.3927\n",
      "Epoch [91], val_loss: 1.7716, val_acc: 0.3896\n",
      "Epoch [92], val_loss: 1.7697, val_acc: 0.3979\n",
      "Epoch [93], val_loss: 1.7684, val_acc: 0.3950\n",
      "Epoch [94], val_loss: 1.7693, val_acc: 0.3969\n",
      "Epoch [95], val_loss: 1.7695, val_acc: 0.3980\n",
      "Epoch [96], val_loss: 1.7674, val_acc: 0.3974\n",
      "Epoch [97], val_loss: 1.7674, val_acc: 0.3992\n",
      "Epoch [98], val_loss: 1.7670, val_acc: 0.3963\n",
      "Epoch [99], val_loss: 1.7666, val_acc: 0.3968\n"
     ]
    }
   ],
   "source": [
    "history = fit(epochs=num_epochs, lr=learning_rate, model=model, train_loader=train_loader, val_loader=val_loader)"
   ]
  },
  {
   "cell_type": "code",
   "execution_count": 9,
   "metadata": {},
   "outputs": [
    {
     "data": {
      "image/png": "[encoded data removed]",
      "text/plain": [
       "<Figure size 640x480 with 1 Axes>"
      ]
     },
     "metadata": {},
     "output_type": "display_data"
    }
   ],
   "source": [
    "accuracies = [r['val_acc'] for r in history]\n",
    "plt.plot(accuracies, '-x')\n",
    "plt.xlabel('epoch')\n",
    "plt.ylabel('accuracy')\n",
    "plt.title('Accuracy vs. No. of epochs');"
   ]
  },
  {
   "cell_type": "code",
   "execution_count": 10,
   "metadata": {},
   "outputs": [
    {
     "data": {
      "text/plain": [
       "{'val_loss': 1.7577565908432007, 'val_acc': 0.38935548067092896}"
      ]
     },
     "execution_count": 10,
     "metadata": {},
     "output_type": "execute_result"
    }
   ],
   "source": [
    "# Evaluate on test dataset\n",
    "result = evaluate(model, test_loader)\n",
    "result"
   ]
  }
 ],
 "metadata": {
  "kernelspec": {
   "display_name": "Python 3",
   "language": "python",
   "name": "python3"
  },
  "language_info": {
   "codemirror_mode": {
    "name": "ipython",
    "version": 3
   },
   "file_extension": ".py",
   "mimetype": "text/x-python",
   "name": "python",
   "nbconvert_exporter": "python",
   "pygments_lexer": "ipython3",
   "version": "3.12.2"
  }
 },
 "nbformat": 4,
 "nbformat_minor": 2
}
