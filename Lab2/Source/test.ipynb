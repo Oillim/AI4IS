{
 "cells": [
  {
   "cell_type": "code",
   "execution_count": 250,
   "metadata": {},
   "outputs": [],
   "source": [
    "import pickle\n",
    "import numpy as np\n",
    "import matplotlib.pyplot as plt"
   ]
  },
  {
   "cell_type": "markdown",
   "metadata": {},
   "source": [
    "# LOAD DATASET"
   ]
  },
  {
   "cell_type": "markdown",
   "metadata": {},
   "source": [
    "### LOAD DATASET MANUALLY"
   ]
  },
  {
   "cell_type": "code",
   "execution_count": 251,
   "metadata": {},
   "outputs": [],
   "source": [
    "def unpickle(file):\n",
    "    with open(file, 'rb') as fo:\n",
    "        dict = pickle.load(fo, encoding='bytes')\n",
    "    return dict"
   ]
  },
  {
   "cell_type": "code",
   "execution_count": 252,
   "metadata": {},
   "outputs": [],
   "source": [
    "def load_data(data_dir, train=True):\n",
    "    \n",
    "    cifar_train_data = None\n",
    "    cifar_train_filenames = []\n",
    "    cifar_train_labels = []\n",
    "    cifar_test_data = None\n",
    "    cifar_test_filenames = []\n",
    "    cifar_test_labels = []\n",
    "    if train:\n",
    "        for i in range(1,6):\n",
    "            cifar_train_data_dict = unpickle(data_dir + \"/data_batch_{}\".format(i))\n",
    "            if i == 1:\n",
    "                cifar_train_data = cifar_train_data_dict[b'data']\n",
    "            else:\n",
    "                cifar_train_data = np.vstack((cifar_train_data, cifar_train_data_dict[b'data']))\n",
    "\n",
    "            cifar_train_filenames += cifar_train_data_dict[b'filenames']\n",
    "            cifar_train_labels += cifar_train_data_dict[b'labels']\n",
    "        cifar_train_data = cifar_train_data.reshape((len(cifar_train_data), 3, 32, 32))\n",
    "\n",
    "        cifar_train_filenames = np.array(cifar_train_filenames)\n",
    "        cifar_train_labels = np.array(cifar_train_labels)\n",
    "    \n",
    "        return cifar_train_data, cifar_train_filenames, cifar_train_labels\n",
    "    \n",
    "    else:\n",
    "        cifar_test_data_dict = unpickle(data_dir + \"/test_batch\")\n",
    "        cifar_test_data = cifar_test_data_dict[b'data']\n",
    "        cifar_test_data = cifar_test_data.reshape((len(cifar_test_data), 3, 32, 32))\n",
    "\n",
    "        cifar_test_filenames = np.array(cifar_test_data_dict[b'filenames'])\n",
    "        cifar_test_labels = np.array(cifar_test_data_dict[b'labels'])\n",
    "        return cifar_test_data, cifar_test_filenames, cifar_test_labels\n",
    "    \n",
    "    "
   ]
  },
  {
   "cell_type": "code",
   "execution_count": 253,
   "metadata": {},
   "outputs": [],
   "source": [
    "data_batches, filenames, labels = load_data('cifar-10-batches-py')\n",
    "test_batch, test_filenames, test_labels = load_data('cifar-10-batches-py', train=False)"
   ]
  },
  {
   "cell_type": "code",
   "execution_count": 254,
   "metadata": {},
   "outputs": [
    {
     "data": {
      "text/plain": [
       "{b'num_cases_per_batch': 10000,\n",
       " b'label_names': [b'airplane',\n",
       "  b'automobile',\n",
       "  b'bird',\n",
       "  b'cat',\n",
       "  b'deer',\n",
       "  b'dog',\n",
       "  b'frog',\n",
       "  b'horse',\n",
       "  b'ship',\n",
       "  b'truck'],\n",
       " b'num_vis': 3072}"
      ]
     },
     "execution_count": 254,
     "metadata": {},
     "output_type": "execute_result"
    }
   ],
   "source": [
    "batches_meta = unpickle('cifar-10-batches-py/batches.meta')\n",
    "label_names = batches_meta[b'label_names']\n",
    "batches_meta"
   ]
  },
  {
   "cell_type": "code",
   "execution_count": 255,
   "metadata": {},
   "outputs": [],
   "source": [
    "import torch\n",
    "import torchvision\n",
    "import torchvision.transforms as transforms\n",
    "import torch.nn as nn\n",
    "import torch.nn.functional as F\n",
    "from torch.utils.data import random_split\n",
    "from torch.utils.data import DataLoader"
   ]
  },
  {
   "cell_type": "code",
   "execution_count": 256,
   "metadata": {},
   "outputs": [
    {
     "data": {
      "text/plain": [
       "torch.Size([50000, 3, 32, 32])"
      ]
     },
     "execution_count": 256,
     "metadata": {},
     "output_type": "execute_result"
    }
   ],
   "source": [
    "tensor_cifar10 = torch.tensor(data_batches, dtype=torch.float32)\n",
    "tensor_cifar10 /= 255.0\n",
    "tensor_cifar10.shape"
   ]
  },
  {
   "cell_type": "code",
   "execution_count": 257,
   "metadata": {},
   "outputs": [],
   "source": [
    "# Add label to each tensor\n",
    "tensor_cifar10 = [(tensor_cifar10[i], labels[i]) for i in range(len(tensor_cifar10))]\n"
   ]
  },
  {
   "cell_type": "code",
   "execution_count": 258,
   "metadata": {},
   "outputs": [
    {
     "data": {
      "text/plain": [
       "torch.Size([3, 32, 32])"
      ]
     },
     "execution_count": 258,
     "metadata": {},
     "output_type": "execute_result"
    }
   ],
   "source": [
    "tensor_cifar10[0][0].shape"
   ]
  },
  {
   "cell_type": "code",
   "execution_count": 259,
   "metadata": {},
   "outputs": [
    {
     "name": "stdout",
     "output_type": "stream",
     "text": [
      "this is an image of a \n"
     ]
    },
    {
     "data": {
      "image/png": "[encoded data removed]",
      "text/plain": [
       "<Figure size 640x480 with 1 Axes>"
      ]
     },
     "metadata": {},
     "output_type": "display_data"
    }
   ],
   "source": [
    "img, label = tensor_cifar10[0]\n",
    "plt.imshow(img.permute(1, 2, 0))\n",
    "print(\"this is an image of a \", )"
   ]
  },
  {
   "cell_type": "code",
   "execution_count": 260,
   "metadata": {},
   "outputs": [],
   "source": [
    "train_ds, val_ds = random_split(tensor_cifar10, [40000, 10000])\n",
    "test_ds = [(torch.tensor(test_batch[i], dtype=torch.float32), test_labels[i]) for i in range(len(test_batch))]\n"
   ]
  },
  {
   "cell_type": "code",
   "execution_count": 261,
   "metadata": {},
   "outputs": [],
   "source": [
    "#hyperparameters\n",
    "batch_size = 128"
   ]
  },
  {
   "cell_type": "code",
   "execution_count": 262,
   "metadata": {},
   "outputs": [],
   "source": [
    "train_loader = DataLoader(train_ds, batch_size, shuffle=True)\n",
    "val_loader = DataLoader(val_ds, batch_size*2)\n",
    "test_loader = DataLoader(test_ds, batch_size*2)"
   ]
  },
  {
   "cell_type": "markdown",
   "metadata": {},
   "source": [
    "### LOAD DATA FROM TORCHVISION.DATASETS"
   ]
  },
  {
   "cell_type": "code",
   "execution_count": 281,
   "metadata": {},
   "outputs": [
    {
     "data": {
      "text/plain": [
       "(50000, 32, 32, 3)"
      ]
     },
     "execution_count": 281,
     "metadata": {},
     "output_type": "execute_result"
    }
   ],
   "source": [
    "dataset = torchvision.datasets.CIFAR10(root='data/', train=True, transform=transforms.ToTensor(), download=False)\n",
    "dataset.data.shape"
   ]
  },
  {
   "cell_type": "code",
   "execution_count": 264,
   "metadata": {},
   "outputs": [
    {
     "data": {
      "text/plain": [
       "<matplotlib.image.AxesImage at 0x330d885f0>"
      ]
     },
     "execution_count": 264,
     "metadata": {},
     "output_type": "execute_result"
    },
    {
     "data": {
      "image/png": "[encoded data removed]",
      "text/plain": [
       "<Figure size 640x480 with 1 Axes>"
      ]
     },
     "metadata": {},
     "output_type": "display_data"
    }
   ],
   "source": [
    "img, label = dataset[0]\n",
    "plt.imshow(img.permute(1, 2, 0))"
   ]
  },
  {
   "cell_type": "markdown",
   "metadata": {},
   "source": [
    "# TRAIN MODEL"
   ]
  },
  {
   "cell_type": "code",
   "execution_count": 265,
   "metadata": {},
   "outputs": [],
   "source": [
    "def accuracy(outputs, labels):\n",
    "    _, preds = torch.max(outputs, dim=1)\n",
    "    return torch.tensor(torch.sum(preds == labels).item() / len(preds))"
   ]
  },
  {
   "cell_type": "code",
   "execution_count": 272,
   "metadata": {},
   "outputs": [],
   "source": [
    "class Cifar10Model(nn.Module):\n",
    "    def __init__(self, input_size=3*32*32, num_classes=10):\n",
    "        super().__init__()\n",
    "        self.linear = nn.Linear(input_size, num_classes)\n",
    "        \n",
    "    def forward(self, xb):\n",
    "        xb = xb.view(xb.size(0), -1)#else xb.reshape(-1, 3*32*32)\n",
    "        out = self.linear(xb)\n",
    "        #out = F.softmax(out, dim=1)\n",
    "        return out\n",
    "    \n",
    "    def training_step(self, batch):\n",
    "        images, labels = batch \n",
    "        out = self(images)                  # Generate predictions\n",
    "        loss = F.cross_entropy(out, labels) # Calculate loss\n",
    "        return loss\n",
    "    \n",
    "    def validation_step(self, batch):\n",
    "        images, labels = batch \n",
    "        out = self(images)                    # Generate predictions\n",
    "        loss = F.cross_entropy(out, labels)   # Calculate loss\n",
    "        acc = accuracy(out, labels)           # Calculate accuracy\n",
    "        return {'val_loss': loss.detach(), 'val_acc': acc.detach()}\n",
    "        \n",
    "    def validation_epoch_end(self, outputs):\n",
    "        batch_losses = [x['val_loss'] for x in outputs]\n",
    "        epoch_loss = torch.stack(batch_losses).mean()   # Combine losses\n",
    "        batch_accs = [x['val_acc'] for x in outputs]\n",
    "        epoch_acc = torch.stack(batch_accs).mean()      # Combine accuracies\n",
    "        return {'val_loss': epoch_loss.item(), 'val_acc': epoch_acc.item()}\n",
    "    \n",
    "    def epoch_end(self, epoch, result):\n",
    "        print(\"Epoch [{}], val_loss: {:.4f}, val_acc: {:.4f}\".format(epoch, result['val_loss'], result['val_acc']))\n",
    "    \n",
    "model = Cifar10Model()"
   ]
  },
  {
   "cell_type": "code",
   "execution_count": 273,
   "metadata": {},
   "outputs": [],
   "source": [
    "def evaluate(model, val_loader):\n",
    "    outputs = [model.validation_step(batch) for batch in val_loader]\n",
    "    return model.validation_epoch_end(outputs)\n",
    "\n",
    "def fit(epochs, lr, model, train_loader, val_loader, opt_func=torch.optim.SGD):\n",
    "    history = []\n",
    "    optimizer = opt_func(model.parameters(), lr)\n",
    "    for epoch in range(epochs):\n",
    "        # Training Phase \n",
    "        for batch in train_loader:\n",
    "            loss = model.training_step(batch)\n",
    "            loss.backward()\n",
    "            optimizer.step()\n",
    "            optimizer.zero_grad()\n",
    "        # Validation phase\n",
    "        result = evaluate(model, val_loader)\n",
    "        model.epoch_end(epoch, result)\n",
    "        history.append(result)\n",
    "    return history"
   ]
  },
  {
   "cell_type": "code",
   "execution_count": 274,
   "metadata": {},
   "outputs": [
    {
     "data": {
      "text/plain": [
       "{'val_loss': 2.3294970989227295, 'val_acc': 0.11396484076976776}"
      ]
     },
     "execution_count": 274,
     "metadata": {},
     "output_type": "execute_result"
    }
   ],
   "source": [
    "evaluate(model, val_loader)"
   ]
  },
  {
   "cell_type": "code",
   "execution_count": 275,
   "metadata": {},
   "outputs": [
    {
     "name": "stdout",
     "output_type": "stream",
     "text": [
      "Epoch [0], val_loss: 2.1361, val_acc: 0.2406\n",
      "Epoch [1], val_loss: 2.0586, val_acc: 0.3061\n",
      "Epoch [2], val_loss: 2.0121, val_acc: 0.3047\n",
      "Epoch [3], val_loss: 1.9788, val_acc: 0.3286\n",
      "Epoch [4], val_loss: 1.9544, val_acc: 0.3364\n",
      "Epoch [5], val_loss: 1.9357, val_acc: 0.3426\n",
      "Epoch [6], val_loss: 1.9201, val_acc: 0.3455\n",
      "Epoch [7], val_loss: 1.9083, val_acc: 0.3483\n",
      "Epoch [8], val_loss: 1.8985, val_acc: 0.3530\n",
      "Epoch [9], val_loss: 1.8895, val_acc: 0.3499\n",
      "Epoch [10], val_loss: 1.8789, val_acc: 0.3582\n",
      "Epoch [11], val_loss: 1.8721, val_acc: 0.3569\n",
      "Epoch [12], val_loss: 1.8662, val_acc: 0.3585\n",
      "Epoch [13], val_loss: 1.8599, val_acc: 0.3603\n",
      "Epoch [14], val_loss: 1.8548, val_acc: 0.3638\n",
      "Epoch [15], val_loss: 1.8498, val_acc: 0.3645\n",
      "Epoch [16], val_loss: 1.8457, val_acc: 0.3646\n",
      "Epoch [17], val_loss: 1.8411, val_acc: 0.3678\n",
      "Epoch [18], val_loss: 1.8377, val_acc: 0.3696\n",
      "Epoch [19], val_loss: 1.8338, val_acc: 0.3720\n",
      "Epoch [20], val_loss: 1.8301, val_acc: 0.3724\n",
      "Epoch [21], val_loss: 1.8276, val_acc: 0.3716\n",
      "Epoch [22], val_loss: 1.8258, val_acc: 0.3724\n",
      "Epoch [23], val_loss: 1.8234, val_acc: 0.3739\n",
      "Epoch [24], val_loss: 1.8196, val_acc: 0.3768\n",
      "Epoch [25], val_loss: 1.8183, val_acc: 0.3730\n",
      "Epoch [26], val_loss: 1.8150, val_acc: 0.3764\n",
      "Epoch [27], val_loss: 1.8133, val_acc: 0.3761\n",
      "Epoch [28], val_loss: 1.8122, val_acc: 0.3759\n",
      "Epoch [29], val_loss: 1.8098, val_acc: 0.3758\n",
      "Epoch [30], val_loss: 1.8071, val_acc: 0.3791\n",
      "Epoch [31], val_loss: 1.8057, val_acc: 0.3777\n",
      "Epoch [32], val_loss: 1.8040, val_acc: 0.3800\n",
      "Epoch [33], val_loss: 1.8032, val_acc: 0.3773\n",
      "Epoch [34], val_loss: 1.8005, val_acc: 0.3774\n",
      "Epoch [35], val_loss: 1.7990, val_acc: 0.3796\n",
      "Epoch [36], val_loss: 1.7975, val_acc: 0.3818\n",
      "Epoch [37], val_loss: 1.7966, val_acc: 0.3798\n",
      "Epoch [38], val_loss: 1.7953, val_acc: 0.3815\n",
      "Epoch [39], val_loss: 1.7942, val_acc: 0.3834\n",
      "Epoch [40], val_loss: 1.7932, val_acc: 0.3771\n",
      "Epoch [41], val_loss: 1.7910, val_acc: 0.3821\n",
      "Epoch [42], val_loss: 1.7897, val_acc: 0.3786\n",
      "Epoch [43], val_loss: 1.7882, val_acc: 0.3825\n",
      "Epoch [44], val_loss: 1.7884, val_acc: 0.3840\n",
      "Epoch [45], val_loss: 1.7867, val_acc: 0.3824\n",
      "Epoch [46], val_loss: 1.7858, val_acc: 0.3843\n",
      "Epoch [47], val_loss: 1.7846, val_acc: 0.3842\n",
      "Epoch [48], val_loss: 1.7858, val_acc: 0.3822\n",
      "Epoch [49], val_loss: 1.7836, val_acc: 0.3839\n",
      "Epoch [50], val_loss: 1.7824, val_acc: 0.3803\n",
      "Epoch [51], val_loss: 1.7812, val_acc: 0.3837\n",
      "Epoch [52], val_loss: 1.7800, val_acc: 0.3859\n",
      "Epoch [53], val_loss: 1.7817, val_acc: 0.3862\n",
      "Epoch [54], val_loss: 1.7781, val_acc: 0.3858\n",
      "Epoch [55], val_loss: 1.7787, val_acc: 0.3854\n",
      "Epoch [56], val_loss: 1.7772, val_acc: 0.3854\n",
      "Epoch [57], val_loss: 1.7754, val_acc: 0.3881\n",
      "Epoch [58], val_loss: 1.7768, val_acc: 0.3832\n",
      "Epoch [59], val_loss: 1.7735, val_acc: 0.3847\n",
      "Epoch [60], val_loss: 1.7735, val_acc: 0.3894\n",
      "Epoch [61], val_loss: 1.7741, val_acc: 0.3865\n",
      "Epoch [62], val_loss: 1.7719, val_acc: 0.3851\n",
      "Epoch [63], val_loss: 1.7725, val_acc: 0.3843\n",
      "Epoch [64], val_loss: 1.7708, val_acc: 0.3883\n",
      "Epoch [65], val_loss: 1.7715, val_acc: 0.3879\n",
      "Epoch [66], val_loss: 1.7696, val_acc: 0.3884\n",
      "Epoch [67], val_loss: 1.7697, val_acc: 0.3872\n",
      "Epoch [68], val_loss: 1.7689, val_acc: 0.3900\n",
      "Epoch [69], val_loss: 1.7686, val_acc: 0.3876\n",
      "Epoch [70], val_loss: 1.7672, val_acc: 0.3903\n",
      "Epoch [71], val_loss: 1.7667, val_acc: 0.3906\n",
      "Epoch [72], val_loss: 1.7658, val_acc: 0.3923\n",
      "Epoch [73], val_loss: 1.7668, val_acc: 0.3894\n",
      "Epoch [74], val_loss: 1.7642, val_acc: 0.3931\n",
      "Epoch [75], val_loss: 1.7651, val_acc: 0.3911\n",
      "Epoch [76], val_loss: 1.7638, val_acc: 0.3935\n",
      "Epoch [77], val_loss: 1.7634, val_acc: 0.3939\n",
      "Epoch [78], val_loss: 1.7628, val_acc: 0.3925\n",
      "Epoch [79], val_loss: 1.7624, val_acc: 0.3938\n",
      "Epoch [80], val_loss: 1.7621, val_acc: 0.3914\n",
      "Epoch [81], val_loss: 1.7614, val_acc: 0.3901\n",
      "Epoch [82], val_loss: 1.7611, val_acc: 0.3935\n",
      "Epoch [83], val_loss: 1.7611, val_acc: 0.3954\n",
      "Epoch [84], val_loss: 1.7608, val_acc: 0.3917\n",
      "Epoch [85], val_loss: 1.7597, val_acc: 0.3943\n",
      "Epoch [86], val_loss: 1.7587, val_acc: 0.3926\n",
      "Epoch [87], val_loss: 1.7595, val_acc: 0.3942\n",
      "Epoch [88], val_loss: 1.7588, val_acc: 0.3932\n",
      "Epoch [89], val_loss: 1.7577, val_acc: 0.3969\n",
      "Epoch [90], val_loss: 1.7567, val_acc: 0.3929\n",
      "Epoch [91], val_loss: 1.7591, val_acc: 0.3914\n",
      "Epoch [92], val_loss: 1.7562, val_acc: 0.3964\n",
      "Epoch [93], val_loss: 1.7562, val_acc: 0.3962\n",
      "Epoch [94], val_loss: 1.7561, val_acc: 0.3965\n",
      "Epoch [95], val_loss: 1.7555, val_acc: 0.3951\n",
      "Epoch [96], val_loss: 1.7554, val_acc: 0.3944\n",
      "Epoch [97], val_loss: 1.7541, val_acc: 0.3970\n",
      "Epoch [98], val_loss: 1.7571, val_acc: 0.3912\n",
      "Epoch [99], val_loss: 1.7551, val_acc: 0.3937\n"
     ]
    }
   ],
   "source": [
    "history = fit(100, 0.001, model, train_loader, val_loader)"
   ]
  },
  {
   "cell_type": "code",
   "execution_count": 276,
   "metadata": {},
   "outputs": [
    {
     "data": {
      "image/png": "[encoded data removed]",
      "text/plain": [
       "<Figure size 640x480 with 1 Axes>"
      ]
     },
     "metadata": {},
     "output_type": "display_data"
    }
   ],
   "source": [
    "accuracies = [r['val_acc'] for r in history]\n",
    "plt.plot(accuracies, '-x')\n",
    "plt.xlabel('epoch')\n",
    "plt.ylabel('accuracy')\n",
    "plt.title('Accuracy vs. No. of epochs');"
   ]
  },
  {
   "cell_type": "code",
   "execution_count": 277,
   "metadata": {},
   "outputs": [
    {
     "data": {
      "text/plain": [
       "{'val_loss': 159.76010131835938, 'val_acc': 0.3836914002895355}"
      ]
     },
     "execution_count": 277,
     "metadata": {},
     "output_type": "execute_result"
    }
   ],
   "source": [
    "# Evaluate on test dataset\n",
    "result = evaluate(model, test_loader)\n",
    "result"
   ]
  }
 ],
 "metadata": {
  "kernelspec": {
   "display_name": "Python 3",
   "language": "python",
   "name": "python3"
  },
  "language_info": {
   "codemirror_mode": {
    "name": "ipython",
    "version": 3
   },
   "file_extension": ".py",
   "mimetype": "text/x-python",
   "name": "python",
   "nbconvert_exporter": "python",
   "pygments_lexer": "ipython3",
   "version": "3.12.2"
  }
 },
 "nbformat": 4,
 "nbformat_minor": 2
}
