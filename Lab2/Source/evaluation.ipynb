{
 "cells": [
  {
   "cell_type": "code",
   "execution_count": 1,
   "metadata": {},
   "outputs": [],
   "source": [
    "import tensorflow as tf\n",
    "from tensorflow.keras.models import load_model\n",
    "import data_processing as dp\n",
    "import time\n",
    "from sklearn.metrics import classification_report\n",
    "import feature_extraction as fe\n",
    "import numpy as np"
   ]
  },
  {
   "cell_type": "code",
   "execution_count": 2,
   "metadata": {},
   "outputs": [],
   "source": [
    "(x_test, y_test)= dp.load_data_keras(\"../Data\", test = True)\n",
    "classnames = ['airplane', 'automobile', 'bird', 'cat', 'deer', 'dog', 'frog', 'horse', 'ship', 'truck']"
   ]
  },
  {
   "cell_type": "code",
   "execution_count": 3,
   "metadata": {},
   "outputs": [
    {
     "name": "stdout",
     "output_type": "stream",
     "text": [
      "\u001b[1m313/313\u001b[0m \u001b[32m━━━━━━━━━━━━━━━━━━━━\u001b[0m\u001b[37m\u001b[0m \u001b[1m47s\u001b[0m 150ms/step\n"
     ]
    }
   ],
   "source": [
    "sampling = 3\n",
    "(x_test_dl, y_test_dl)= fe.ResnetPreprocess(x_test=x_test, y_test=y_test, sampling=sampling, test=True)\n"
   ]
  },
  {
   "cell_type": "code",
   "execution_count": 4,
   "metadata": {},
   "outputs": [],
   "source": [
    "(x_test_ml, y_test_ml)= fe.HogPreprocess(x_val=x_test, y_val=y_test, test=True)"
   ]
  },
  {
   "cell_type": "code",
   "execution_count": 5,
   "metadata": {},
   "outputs": [
    {
     "name": "stderr",
     "output_type": "stream",
     "text": [
      "/Library/Frameworks/Python.framework/Versions/3.12/lib/python3.12/site-packages/keras/src/saving/saving_lib.py:576: UserWarning: Skipping variable loading for optimizer 'adam', because it has 6 variables whereas the saved optimizer has 2 variables. \n",
      "  saveable.load_own_variables(weights_store.get(inner_path))\n"
     ]
    }
   ],
   "source": [
    "federate_learning_model = load_model('model/federate_learning_model.keras')\n",
    "resnet_model = load_model('model/resnet_model.keras')\n",
    "client_model = load_model('model/client_2.keras')   \n",
    "hog_model = load_model('model/hog_model.keras')"
   ]
  },
  {
   "cell_type": "code",
   "execution_count": 6,
   "metadata": {},
   "outputs": [
    {
     "name": "stdout",
     "output_type": "stream",
     "text": [
      "\u001b[1m313/313\u001b[0m \u001b[32m━━━━━━━━━━━━━━━━━━━━\u001b[0m\u001b[37m\u001b[0m \u001b[1m0s\u001b[0m 425us/step - accuracy: 0.7463 - loss: 19.9303\n",
      "\u001b[1m313/313\u001b[0m \u001b[32m━━━━━━━━━━━━━━━━━━━━\u001b[0m\u001b[37m\u001b[0m \u001b[1m0s\u001b[0m 399us/step - accuracy: 0.7977 - loss: 26.6068\n",
      "\u001b[1m313/313\u001b[0m \u001b[32m━━━━━━━━━━━━━━━━━━━━\u001b[0m\u001b[37m\u001b[0m \u001b[1m0s\u001b[0m 386us/step - accuracy: 0.7173 - loss: 22.5090\n",
      "\u001b[1m313/313\u001b[0m \u001b[32m━━━━━━━━━━━━━━━━━━━━\u001b[0m\u001b[37m\u001b[0m \u001b[1m0s\u001b[0m 209us/step - accuracy: 0.5196 - loss: 1.3779\n"
     ]
    }
   ],
   "source": [
    "loss_fed, accuracy_fed = federate_learning_model.evaluate(x_test_dl, y_test_dl)\n",
    "loss_resnet, accuracy_resnet = resnet_model.evaluate(x_test_dl, y_test_dl)\n",
    "loss_client, accuracy_client = client_model.evaluate(x_test_dl, y_test_dl)\n",
    "loss_hog, accuracy_hog = hog_model.evaluate(x_test_ml, y_test_ml)"
   ]
  },
  {
   "cell_type": "code",
   "execution_count": 7,
   "metadata": {},
   "outputs": [
    {
     "name": "stdout",
     "output_type": "stream",
     "text": [
      "\u001b[1m313/313\u001b[0m \u001b[32m━━━━━━━━━━━━━━━━━━━━\u001b[0m\u001b[37m\u001b[0m \u001b[1m0s\u001b[0m 401us/step\n",
      "              precision    recall  f1-score   support\n",
      "\n",
      "    airplane     0.9450    0.3610    0.5224      1000\n",
      "  automobile     0.9025    0.8240    0.8615      1000\n",
      "        bird     0.7285    0.6870    0.7072      1000\n",
      "         cat     0.7030    0.5160    0.5952      1000\n",
      "        deer     0.7720    0.6230    0.6895      1000\n",
      "         dog     0.6430    0.8340    0.7262      1000\n",
      "        frog     0.7351    0.8630    0.7939      1000\n",
      "       horse     0.7592    0.8640    0.8082      1000\n",
      "        ship     0.7029    0.9560    0.8102      1000\n",
      "       truck     0.7412    0.9280    0.8242      1000\n",
      "\n",
      "    accuracy                         0.7456     10000\n",
      "   macro avg     0.7633    0.7456    0.7338     10000\n",
      "weighted avg     0.7633    0.7456    0.7338     10000\n",
      "\n"
     ]
    }
   ],
   "source": [
    "pred = federate_learning_model.predict(x_test_dl)\n",
    "pred = np.argmax(pred, axis=1)\n",
    "print(classification_report(y_test, pred, target_names=classnames, digits=4))"
   ]
  },
  {
   "cell_type": "code",
   "execution_count": 8,
   "metadata": {},
   "outputs": [
    {
     "name": "stdout",
     "output_type": "stream",
     "text": [
      "\u001b[1m313/313\u001b[0m \u001b[32m━━━━━━━━━━━━━━━━━━━━\u001b[0m\u001b[37m\u001b[0m \u001b[1m0s\u001b[0m 388us/step\n",
      "              precision    recall  f1-score   support\n",
      "\n",
      "    airplane     0.8936    0.4030    0.5555      1000\n",
      "  automobile     0.9368    0.7410    0.8275      1000\n",
      "        bird     0.6101    0.7620    0.6776      1000\n",
      "         cat     0.6203    0.5930    0.6063      1000\n",
      "        deer     0.8000    0.5280    0.6361      1000\n",
      "         dog     0.6819    0.7590    0.7184      1000\n",
      "        frog     0.9316    0.6540    0.7685      1000\n",
      "       horse     0.7020    0.8670    0.7758      1000\n",
      "        ship     0.5433    0.9860    0.7005      1000\n",
      "       truck     0.8405    0.8640    0.8521      1000\n",
      "\n",
      "    accuracy                         0.7157     10000\n",
      "   macro avg     0.7560    0.7157    0.7118     10000\n",
      "weighted avg     0.7560    0.7157    0.7118     10000\n",
      "\n"
     ]
    }
   ],
   "source": [
    "pred = client_model.predict(x_test_dl)\n",
    "pred = np.argmax(pred, axis=1)\n",
    "print(classification_report(y_test, pred, target_names=classnames, digits=4))"
   ]
  },
  {
   "cell_type": "code",
   "execution_count": 9,
   "metadata": {},
   "outputs": [
    {
     "name": "stdout",
     "output_type": "stream",
     "text": [
      "\u001b[1m313/313\u001b[0m \u001b[32m━━━━━━━━━━━━━━━━━━━━\u001b[0m\u001b[37m\u001b[0m \u001b[1m0s\u001b[0m 383us/step\n",
      "              precision    recall  f1-score   support\n",
      "\n",
      "    airplane     0.7536    0.8780    0.8111      1000\n",
      "  automobile     0.9228    0.8370    0.8778      1000\n",
      "        bird     0.7409    0.7550    0.7479      1000\n",
      "         cat     0.7408    0.4830    0.5847      1000\n",
      "        deer     0.6627    0.8290    0.7366      1000\n",
      "         dog     0.7998    0.6910    0.7414      1000\n",
      "        frog     0.7953    0.8430    0.8184      1000\n",
      "       horse     0.8157    0.8320    0.8238      1000\n",
      "        ship     0.9001    0.8560    0.8775      1000\n",
      "       truck     0.8227    0.9140    0.8659      1000\n",
      "\n",
      "    accuracy                         0.7918     10000\n",
      "   macro avg     0.7954    0.7918    0.7885     10000\n",
      "weighted avg     0.7954    0.7918    0.7885     10000\n",
      "\n"
     ]
    }
   ],
   "source": [
    "pred = resnet_model.predict(x_test_dl)\n",
    "pred = np.argmax(pred, axis=1)\n",
    "print(classification_report(y_test, pred, target_names=classnames, digits=4))"
   ]
  },
  {
   "cell_type": "code",
   "execution_count": 10,
   "metadata": {},
   "outputs": [
    {
     "name": "stdout",
     "output_type": "stream",
     "text": [
      "\u001b[1m313/313\u001b[0m \u001b[32m━━━━━━━━━━━━━━━━━━━━\u001b[0m\u001b[37m\u001b[0m \u001b[1m0s\u001b[0m 196us/step\n",
      "              precision    recall  f1-score   support\n",
      "\n",
      "    airplane     0.5806    0.5800    0.5803      1000\n",
      "  automobile     0.5960    0.6270    0.6111      1000\n",
      "        bird     0.4168    0.3960    0.4062      1000\n",
      "         cat     0.4140    0.3010    0.3486      1000\n",
      "        deer     0.4078    0.5150    0.4551      1000\n",
      "         dog     0.4400    0.4290    0.4344      1000\n",
      "        frog     0.5142    0.5600    0.5361      1000\n",
      "       horse     0.5761    0.5600    0.5680      1000\n",
      "        ship     0.5943    0.5610    0.5772      1000\n",
      "       truck     0.6259    0.6440    0.6348      1000\n",
      "\n",
      "    accuracy                         0.5173     10000\n",
      "   macro avg     0.5166    0.5173    0.5152     10000\n",
      "weighted avg     0.5166    0.5173    0.5152     10000\n",
      "\n"
     ]
    }
   ],
   "source": [
    "pred = hog_model.predict(x_test_ml)\n",
    "pred = np.argmax(pred, axis=1)\n",
    "print(classification_report(y_test, pred, target_names=classnames, digits=4))"
   ]
  }
 ],
 "metadata": {
  "kernelspec": {
   "display_name": "Python 3",
   "language": "python",
   "name": "python3"
  },
  "language_info": {
   "codemirror_mode": {
    "name": "ipython",
    "version": 3
   },
   "file_extension": ".py",
   "mimetype": "text/x-python",
   "name": "python",
   "nbconvert_exporter": "python",
   "pygments_lexer": "ipython3",
   "version": "3.12.2"
  }
 },
 "nbformat": 4,
 "nbformat_minor": 2
}
