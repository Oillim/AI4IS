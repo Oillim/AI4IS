{
 "cells": [
  {
   "cell_type": "code",
   "execution_count": 18,
   "metadata": {},
   "outputs": [],
   "source": [
    "import tensorflow as tf\n",
    "from tensorflow.keras.models import load_model\n",
    "import data_processing as dp\n",
    "import time\n",
    "from sklearn.metrics import classification_report\n",
    "import feature_extraction as fe\n",
    "import numpy as np"
   ]
  },
  {
   "cell_type": "code",
   "execution_count": 15,
   "metadata": {},
   "outputs": [],
   "source": [
    "(x_test, y_test)= dp.load_data_keras(\"../Data\", test = True)\n",
    "classnames = ['airplane', 'automobile', 'bird', 'cat', 'deer', 'dog', 'frog', 'horse', 'ship', 'truck']"
   ]
  },
  {
   "cell_type": "code",
   "execution_count": 4,
   "metadata": {},
   "outputs": [
    {
     "name": "stdout",
     "output_type": "stream",
     "text": [
      "\u001b[1m313/313\u001b[0m \u001b[32m━━━━━━━━━━━━━━━━━━━━\u001b[0m\u001b[37m\u001b[0m \u001b[1m24s\u001b[0m 73ms/step\n"
     ]
    }
   ],
   "source": [
    "sampling = 2 \n",
    "(x_test_dl, y_test_dl)= fe.ResnetPreprocess(x_test=x_test, y_test=y_test, sampling=sampling, test=True)\n"
   ]
  },
  {
   "cell_type": "code",
   "execution_count": 3,
   "metadata": {},
   "outputs": [],
   "source": [
    "(x_test_ml, y_test_ml)= fe.HogPreprocess(x_val=x_test, y_val=y_test, test=True)"
   ]
  },
  {
   "cell_type": "code",
   "execution_count": 6,
   "metadata": {},
   "outputs": [],
   "source": [
    "federate_learning_model = load_model('model/federate_learning_model.keras')\n",
    "resnet_model = load_model('model/resnet_model.keras')\n",
    "hog_model = load_model('model/hog_model.keras')"
   ]
  },
  {
   "cell_type": "code",
   "execution_count": 12,
   "metadata": {},
   "outputs": [
    {
     "name": "stdout",
     "output_type": "stream",
     "text": [
      "\u001b[1m313/313\u001b[0m \u001b[32m━━━━━━━━━━━━━━━━━━━━\u001b[0m\u001b[37m\u001b[0m \u001b[1m0s\u001b[0m 372us/step - accuracy: 0.7846 - loss: 8.4394\n",
      "\u001b[1m313/313\u001b[0m \u001b[32m━━━━━━━━━━━━━━━━━━━━\u001b[0m\u001b[37m\u001b[0m \u001b[1m0s\u001b[0m 307us/step - accuracy: 0.7843 - loss: 14.9827\n",
      "\u001b[1m313/313\u001b[0m \u001b[32m━━━━━━━━━━━━━━━━━━━━\u001b[0m\u001b[37m\u001b[0m \u001b[1m0s\u001b[0m 206us/step - accuracy: 0.5196 - loss: 1.3779\n"
     ]
    }
   ],
   "source": [
    "loss_fed, accuracy_fed = federate_learning_model.evaluate(x_test_dl, y_test_dl)\n",
    "loss_resnet, accuracy_resnet = resnet_model.evaluate(x_test_dl, y_test_dl)\n",
    "loss_hog, accuracy_hog = hog_model.evaluate(x_test_ml, y_test_ml)"
   ]
  },
  {
   "cell_type": "code",
   "execution_count": 20,
   "metadata": {},
   "outputs": [
    {
     "name": "stdout",
     "output_type": "stream",
     "text": [
      "\u001b[1m313/313\u001b[0m \u001b[32m━━━━━━━━━━━━━━━━━━━━\u001b[0m\u001b[37m\u001b[0m \u001b[1m0s\u001b[0m 334us/step\n",
      "              precision    recall  f1-score   support\n",
      "\n",
      "    airplane     0.7437    0.8560    0.7959      1000\n",
      "  automobile     0.8957    0.8330    0.8632      1000\n",
      "        bird     0.7818    0.7060    0.7420      1000\n",
      "         cat     0.6585    0.5880    0.6212      1000\n",
      "        deer     0.8085    0.6460    0.7182      1000\n",
      "         dog     0.7223    0.7360    0.7291      1000\n",
      "        frog     0.7797    0.8670    0.8210      1000\n",
      "       horse     0.7509    0.8500    0.7974      1000\n",
      "        ship     0.8502    0.8740    0.8619      1000\n",
      "       truck     0.8412    0.8690    0.8549      1000\n",
      "\n",
      "    accuracy                         0.7825     10000\n",
      "   macro avg     0.7832    0.7825    0.7805     10000\n",
      "weighted avg     0.7832    0.7825    0.7805     10000\n",
      "\n"
     ]
    }
   ],
   "source": [
    "pred = federate_learning_model.predict(x_test_dl)\n",
    "pred = np.argmax(pred, axis=1)\n",
    "print(classification_report(y_test, pred, target_names=classnames, digits=4))"
   ]
  },
  {
   "cell_type": "code",
   "execution_count": 21,
   "metadata": {},
   "outputs": [
    {
     "name": "stdout",
     "output_type": "stream",
     "text": [
      "\u001b[1m313/313\u001b[0m \u001b[32m━━━━━━━━━━━━━━━━━━━━\u001b[0m\u001b[37m\u001b[0m \u001b[1m0s\u001b[0m 325us/step\n",
      "              precision    recall  f1-score   support\n",
      "\n",
      "    airplane     0.7319    0.8680    0.7941      1000\n",
      "  automobile     0.8847    0.8360    0.8596      1000\n",
      "        bird     0.8286    0.6670    0.7391      1000\n",
      "         cat     0.6099    0.6380    0.6237      1000\n",
      "        deer     0.7250    0.7670    0.7454      1000\n",
      "         dog     0.7032    0.7250    0.7139      1000\n",
      "        frog     0.8036    0.8470    0.8247      1000\n",
      "       horse     0.8270    0.8080    0.8174      1000\n",
      "        ship     0.8751    0.8340    0.8541      1000\n",
      "       truck     0.8751    0.8270    0.8504      1000\n",
      "\n",
      "    accuracy                         0.7817     10000\n",
      "   macro avg     0.7864    0.7817    0.7822     10000\n",
      "weighted avg     0.7864    0.7817    0.7822     10000\n",
      "\n"
     ]
    }
   ],
   "source": [
    "pred = resnet_model.predict(x_test_dl)\n",
    "pred = np.argmax(pred, axis=1)\n",
    "print(classification_report(y_test, pred, target_names=classnames, digits=4))"
   ]
  },
  {
   "cell_type": "code",
   "execution_count": 22,
   "metadata": {},
   "outputs": [
    {
     "name": "stdout",
     "output_type": "stream",
     "text": [
      "\u001b[1m313/313\u001b[0m \u001b[32m━━━━━━━━━━━━━━━━━━━━\u001b[0m\u001b[37m\u001b[0m \u001b[1m0s\u001b[0m 231us/step\n",
      "              precision    recall  f1-score   support\n",
      "\n",
      "    airplane     0.5806    0.5800    0.5803      1000\n",
      "  automobile     0.5960    0.6270    0.6111      1000\n",
      "        bird     0.4168    0.3960    0.4062      1000\n",
      "         cat     0.4140    0.3010    0.3486      1000\n",
      "        deer     0.4078    0.5150    0.4551      1000\n",
      "         dog     0.4400    0.4290    0.4344      1000\n",
      "        frog     0.5142    0.5600    0.5361      1000\n",
      "       horse     0.5761    0.5600    0.5680      1000\n",
      "        ship     0.5943    0.5610    0.5772      1000\n",
      "       truck     0.6259    0.6440    0.6348      1000\n",
      "\n",
      "    accuracy                         0.5173     10000\n",
      "   macro avg     0.5166    0.5173    0.5152     10000\n",
      "weighted avg     0.5166    0.5173    0.5152     10000\n",
      "\n"
     ]
    }
   ],
   "source": [
    "pred = hog_model.predict(x_test_ml)\n",
    "pred = np.argmax(pred, axis=1)\n",
    "print(classification_report(y_test, pred, target_names=classnames, digits=4))"
   ]
  }
 ],
 "metadata": {
  "kernelspec": {
   "display_name": "Python 3",
   "language": "python",
   "name": "python3"
  },
  "language_info": {
   "codemirror_mode": {
    "name": "ipython",
    "version": 3
   },
   "file_extension": ".py",
   "mimetype": "text/x-python",
   "name": "python",
   "nbconvert_exporter": "python",
   "pygments_lexer": "ipython3",
   "version": "3.12.2"
  }
 },
 "nbformat": 4,
 "nbformat_minor": 2
}
