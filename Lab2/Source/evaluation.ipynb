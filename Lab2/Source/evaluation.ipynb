{
 "cells": [
  {
   "cell_type": "code",
   "execution_count": 14,
   "metadata": {},
   "outputs": [],
   "source": [
    "import tensorflow as tf\n",
    "from tensorflow.keras.models import load_model\n",
    "import data_processing as dp\n",
    "import time\n",
    "from sklearn.metrics import classification_report\n",
    "import feature_extraction as fe\n",
    "import numpy as np"
   ]
  },
  {
   "cell_type": "code",
   "execution_count": 15,
   "metadata": {},
   "outputs": [],
   "source": [
    "(x_test, y_test)= dp.load_data_keras(\"../Data\", test = True)\n",
    "classnames = ['airplane', 'automobile', 'bird', 'cat', 'deer', 'dog', 'frog', 'horse', 'ship', 'truck']"
   ]
  },
  {
   "cell_type": "code",
   "execution_count": 16,
   "metadata": {},
   "outputs": [
    {
     "name": "stdout",
     "output_type": "stream",
     "text": [
      "\u001b[1m313/313\u001b[0m \u001b[32m━━━━━━━━━━━━━━━━━━━━\u001b[0m\u001b[37m\u001b[0m \u001b[1m42s\u001b[0m 134ms/step\n"
     ]
    }
   ],
   "source": [
    "sampling = 3\n",
    "(x_test_dl, y_test_dl)= fe.ResnetPreprocess(x_test=x_test, y_test=y_test, sampling=sampling, test=True)\n"
   ]
  },
  {
   "cell_type": "code",
   "execution_count": 17,
   "metadata": {},
   "outputs": [],
   "source": [
    "(x_test_ml, y_test_ml)= fe.HogPreprocess(x_val=x_test, y_val=y_test, test=True)"
   ]
  },
  {
   "cell_type": "code",
   "execution_count": 18,
   "metadata": {},
   "outputs": [
    {
     "name": "stderr",
     "output_type": "stream",
     "text": [
      "/Library/Frameworks/Python.framework/Versions/3.12/lib/python3.12/site-packages/keras/src/saving/saving_lib.py:576: UserWarning: Skipping variable loading for optimizer 'adam', because it has 6 variables whereas the saved optimizer has 2 variables. \n",
      "  saveable.load_own_variables(weights_store.get(inner_path))\n"
     ]
    }
   ],
   "source": [
    "federate_learning_model = load_model('model/federate_learning_model.keras')\n",
    "resnet_model = load_model('model/resnet_model.keras')\n",
    "client_model = load_model('model/client_2.keras')   \n",
    "hog_model = load_model('model/hog_model.keras')"
   ]
  },
  {
   "cell_type": "code",
   "execution_count": 19,
   "metadata": {},
   "outputs": [
    {
     "name": "stdout",
     "output_type": "stream",
     "text": [
      "\u001b[1m313/313\u001b[0m \u001b[32m━━━━━━━━━━━━━━━━━━━━\u001b[0m\u001b[37m\u001b[0m \u001b[1m0s\u001b[0m 477us/step - accuracy: 0.7902 - loss: 14.2576\n",
      "\u001b[1m313/313\u001b[0m \u001b[32m━━━━━━━━━━━━━━━━━━━━\u001b[0m\u001b[37m\u001b[0m \u001b[1m0s\u001b[0m 455us/step - accuracy: 0.8006 - loss: 25.2175\n",
      "\u001b[1m313/313\u001b[0m \u001b[32m━━━━━━━━━━━━━━━━━━━━\u001b[0m\u001b[37m\u001b[0m \u001b[1m0s\u001b[0m 502us/step - accuracy: 0.7948 - loss: 15.5166\n",
      "\u001b[1m313/313\u001b[0m \u001b[32m━━━━━━━━━━━━━━━━━━━━\u001b[0m\u001b[37m\u001b[0m \u001b[1m0s\u001b[0m 223us/step - accuracy: 0.5196 - loss: 1.3779\n"
     ]
    }
   ],
   "source": [
    "loss_fed, accuracy_fed = federate_learning_model.evaluate(x_test_dl, y_test_dl)\n",
    "loss_resnet, accuracy_resnet = resnet_model.evaluate(x_test_dl, y_test_dl)\n",
    "loss_client, accuracy_client = client_model.evaluate(x_test_dl, y_test_dl)\n",
    "loss_hog, accuracy_hog = hog_model.evaluate(x_test_ml, y_test_ml)"
   ]
  },
  {
   "cell_type": "code",
   "execution_count": 20,
   "metadata": {},
   "outputs": [
    {
     "name": "stdout",
     "output_type": "stream",
     "text": [
      "\u001b[1m313/313\u001b[0m \u001b[32m━━━━━━━━━━━━━━━━━━━━\u001b[0m\u001b[37m\u001b[0m \u001b[1m0s\u001b[0m 467us/step\n",
      "              precision    recall  f1-score   support\n",
      "\n",
      "    airplane     0.8819    0.7540    0.8129      1000\n",
      "  automobile     0.9128    0.8580    0.8845      1000\n",
      "        bird     0.7732    0.7090    0.7397      1000\n",
      "         cat     0.6415    0.5530    0.5940      1000\n",
      "        deer     0.7015    0.7660    0.7323      1000\n",
      "         dog     0.6552    0.8190    0.7280      1000\n",
      "        frog     0.7876    0.8490    0.8171      1000\n",
      "       horse     0.8573    0.7930    0.8239      1000\n",
      "        ship     0.8498    0.9280    0.8872      1000\n",
      "       truck     0.8766    0.8670    0.8718      1000\n",
      "\n",
      "    accuracy                         0.7896     10000\n",
      "   macro avg     0.7937    0.7896    0.7891     10000\n",
      "weighted avg     0.7937    0.7896    0.7891     10000\n",
      "\n"
     ]
    }
   ],
   "source": [
    "pred = federate_learning_model.predict(x_test_dl)\n",
    "pred = np.argmax(pred, axis=1)\n",
    "print(classification_report(y_test, pred, target_names=classnames, digits=4))"
   ]
  },
  {
   "cell_type": "code",
   "execution_count": 21,
   "metadata": {},
   "outputs": [
    {
     "name": "stdout",
     "output_type": "stream",
     "text": [
      "\u001b[1m313/313\u001b[0m \u001b[32m━━━━━━━━━━━━━━━━━━━━\u001b[0m\u001b[37m\u001b[0m \u001b[1m0s\u001b[0m 450us/step\n",
      "              precision    recall  f1-score   support\n",
      "\n",
      "    airplane     0.7851    0.8510    0.8167      1000\n",
      "  automobile     0.9204    0.8330    0.8745      1000\n",
      "        bird     0.7062    0.7690    0.7362      1000\n",
      "         cat     0.6686    0.5890    0.6263      1000\n",
      "        deer     0.7341    0.7620    0.7478      1000\n",
      "         dog     0.7202    0.7540    0.7367      1000\n",
      "        frog     0.7828    0.8470    0.8136      1000\n",
      "       horse     0.8769    0.7980    0.8356      1000\n",
      "        ship     0.9036    0.8810    0.8922      1000\n",
      "       truck     0.8726    0.8630    0.8678      1000\n",
      "\n",
      "    accuracy                         0.7947     10000\n",
      "   macro avg     0.7970    0.7947    0.7947     10000\n",
      "weighted avg     0.7970    0.7947    0.7947     10000\n",
      "\n"
     ]
    }
   ],
   "source": [
    "pred = client_model.predict(x_test_dl)\n",
    "pred = np.argmax(pred, axis=1)\n",
    "print(classification_report(y_test, pred, target_names=classnames, digits=4))"
   ]
  },
  {
   "cell_type": "code",
   "execution_count": 22,
   "metadata": {},
   "outputs": [
    {
     "name": "stdout",
     "output_type": "stream",
     "text": [
      "\u001b[1m313/313\u001b[0m \u001b[32m━━━━━━━━━━━━━━━━━━━━\u001b[0m\u001b[37m\u001b[0m \u001b[1m0s\u001b[0m 472us/step\n",
      "              precision    recall  f1-score   support\n",
      "\n",
      "    airplane     0.8484    0.8060    0.8267      1000\n",
      "  automobile     0.9177    0.8700    0.8932      1000\n",
      "        bird     0.8138    0.6820    0.7421      1000\n",
      "         cat     0.6093    0.6940    0.6489      1000\n",
      "        deer     0.6453    0.8240    0.7238      1000\n",
      "         dog     0.7253    0.7340    0.7296      1000\n",
      "        frog     0.8799    0.7620    0.8167      1000\n",
      "       horse     0.8481    0.8210    0.8343      1000\n",
      "        ship     0.8435    0.9160    0.8782      1000\n",
      "       truck     0.9203    0.8430    0.8800      1000\n",
      "\n",
      "    accuracy                         0.7952     10000\n",
      "   macro avg     0.8052    0.7952    0.7974     10000\n",
      "weighted avg     0.8052    0.7952    0.7974     10000\n",
      "\n"
     ]
    }
   ],
   "source": [
    "pred = resnet_model.predict(x_test_dl)\n",
    "pred = np.argmax(pred, axis=1)\n",
    "print(classification_report(y_test, pred, target_names=classnames, digits=4))"
   ]
  },
  {
   "cell_type": "code",
   "execution_count": 23,
   "metadata": {},
   "outputs": [
    {
     "name": "stdout",
     "output_type": "stream",
     "text": [
      "\u001b[1m313/313\u001b[0m \u001b[32m━━━━━━━━━━━━━━━━━━━━\u001b[0m\u001b[37m\u001b[0m \u001b[1m0s\u001b[0m 217us/step\n",
      "              precision    recall  f1-score   support\n",
      "\n",
      "    airplane     0.5806    0.5800    0.5803      1000\n",
      "  automobile     0.5960    0.6270    0.6111      1000\n",
      "        bird     0.4168    0.3960    0.4062      1000\n",
      "         cat     0.4140    0.3010    0.3486      1000\n",
      "        deer     0.4078    0.5150    0.4551      1000\n",
      "         dog     0.4400    0.4290    0.4344      1000\n",
      "        frog     0.5142    0.5600    0.5361      1000\n",
      "       horse     0.5761    0.5600    0.5680      1000\n",
      "        ship     0.5943    0.5610    0.5772      1000\n",
      "       truck     0.6259    0.6440    0.6348      1000\n",
      "\n",
      "    accuracy                         0.5173     10000\n",
      "   macro avg     0.5166    0.5173    0.5152     10000\n",
      "weighted avg     0.5166    0.5173    0.5152     10000\n",
      "\n"
     ]
    }
   ],
   "source": [
    "pred = hog_model.predict(x_test_ml)\n",
    "pred = np.argmax(pred, axis=1)\n",
    "print(classification_report(y_test, pred, target_names=classnames, digits=4))"
   ]
  }
 ],
 "metadata": {
  "kernelspec": {
   "display_name": "Python 3",
   "language": "python",
   "name": "python3"
  },
  "language_info": {
   "codemirror_mode": {
    "name": "ipython",
    "version": 3
   },
   "file_extension": ".py",
   "mimetype": "text/x-python",
   "name": "python",
   "nbconvert_exporter": "python",
   "pygments_lexer": "ipython3",
   "version": "3.12.2"
  }
 },
 "nbformat": 4,
 "nbformat_minor": 2
}
